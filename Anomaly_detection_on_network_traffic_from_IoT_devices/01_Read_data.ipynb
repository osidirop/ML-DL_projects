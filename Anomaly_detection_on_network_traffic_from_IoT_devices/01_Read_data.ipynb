{
 "cells": [
  {
   "cell_type": "markdown",
   "metadata": {},
   "source": [
    "# <font color=\"blue\"><b> Load the log files and merge them</b></font>\n",
    "---"
   ]
  },
  {
   "cell_type": "code",
   "execution_count": 1,
   "metadata": {},
   "outputs": [],
   "source": [
    "import utils.data_loader as dl \n",
    "import pandas as pd\n",
    "import os\n",
    "import numpy as np"
   ]
  },
  {
   "cell_type": "markdown",
   "metadata": {},
   "source": [
    "---\n",
    "### **Load data into dataframes**\n",
    "---"
   ]
  },
  {
   "cell_type": "code",
   "execution_count": 2,
   "metadata": {},
   "outputs": [
    {
     "name": "stdout",
     "output_type": "stream",
     "text": [
      "Reading: data/opt/Malware-Project/BigDataset/IoTScenarios/CTU-Honeypot-Capture-7-1/bro/conn.log.labeled\n",
      "Reading: data/opt/Malware-Project/BigDataset/IoTScenarios/CTU-Honeypot-Capture-5-1/bro/conn.log.labeled\n",
      "Reading: data/opt/Malware-Project/BigDataset/IoTScenarios/CTU-Honeypot-Capture-4-1/bro/conn.log.labeled\n",
      "Reading: data/opt/Malware-Project/BigDataset/IoTScenarios/CTU-IoT-Malware-Capture-44-1/bro/conn.log.labeled\n",
      "Reading: data/opt/Malware-Project/BigDataset/IoTScenarios/CTU-IoT-Malware-Capture-8-1/bro/conn.log.labeled\n",
      "Reading: data/opt/Malware-Project/BigDataset/IoTScenarios/CTU-IoT-Malware-Capture-3-1/bro/conn.log.labeled\n",
      "Reading: data/opt/Malware-Project/BigDataset/IoTScenarios/CTU-IoT-Malware-Capture-20-1/bro/conn.log.labeled\n",
      "Reading: data/opt/Malware-Project/BigDataset/IoTScenarios/CTU-IoT-Malware-Capture-34-1/bro/conn.log.labeled\n",
      "Reading: data/opt/Malware-Project/BigDataset/IoTScenarios/CTU-IoT-Malware-Capture-42-1/bro/conn.log.labeled\n",
      "Reading: data/opt/Malware-Project/BigDataset/IoTScenarios/CTU-IoT-Malware-Capture-21-1/bro/conn.log.labeled\n"
     ]
    }
   ],
   "source": [
    "df_honeypot, df_malware = dl.logs_to_dfs()"
   ]
  },
  {
   "cell_type": "markdown",
   "metadata": {},
   "source": [
    "---\n",
    "### **Merge dataframes**\n",
    "---"
   ]
  },
  {
   "cell_type": "code",
   "execution_count": 3,
   "metadata": {},
   "outputs": [
    {
     "name": "stdout",
     "output_type": "stream",
     "text": [
      "Shape of df_honeypot_all dataframe: (1956, 23)\n",
      "Shape of df_malware_all dataframe: (200809, 23)\n",
      "Shape of concatenated dataframe: (202765, 23)\n"
     ]
    }
   ],
   "source": [
    "# merge benign dataframes\n",
    "df_honeypot_all = pd.concat([df_honeypot[x] for x in range(0,len(df_honeypot))])\n",
    "print('Shape of df_honeypot_all dataframe:', df_honeypot_all.shape)\n",
    "\n",
    "# merge malware dataframes\n",
    "df_malware_all = pd.concat([df_malware[x] for x in range(0,len(df_malware))])\n",
    "print('Shape of df_malware_all dataframe:', df_malware_all.shape)\n",
    "\n",
    "data_df = pd.concat([df_honeypot_all, df_malware_all])\n",
    "print('Shape of concatenated dataframe:', data_df.shape)"
   ]
  },
  {
   "cell_type": "markdown",
   "metadata": {},
   "source": [
    "---\n",
    "### **Save dataframes**\n",
    "---"
   ]
  },
  {
   "cell_type": "code",
   "execution_count": 4,
   "metadata": {},
   "outputs": [],
   "source": [
    "df_honeypot_all.to_csv('data/honeypot_all.csv', index=False)\n",
    "df_malware_all.to_csv('data/malware_all.csv', index=False)\n",
    "data_df.to_csv('data/ioT_data.csv', index=False)"
   ]
  },
  {
   "cell_type": "markdown",
   "metadata": {},
   "source": [
    "---\n",
    "### **Make a new file with the botnet name per type of malware capture**\n",
    "---"
   ]
  },
  {
   "cell_type": "code",
   "execution_count": 5,
   "metadata": {},
   "outputs": [],
   "source": [
    "##### Save each malware dataset after processing #####\n",
    "\n",
    "malware_datasets_name = ['44-1', '8-1', '3-1', '20-1', '34-1', '42-1', '21-1'] # this is the order of readout as displayed above\n",
    "bot_name = ['Mirai', 'Hakai', 'Muhstik','Torii', 'Mirai', 'Trojan', 'Torii']\n",
    "\n",
    "dfs = []\n",
    "\n",
    "for i in range(0,len(malware_datasets_name)):\n",
    "    # Get each file name of malware capture\n",
    "    f_name = 'CTU-IoT-Malware-Capture-' + malware_datasets_name[i]+'.csv'\n",
    "    # Save it to a different csv file\n",
    "    df_malware[i].to_csv('data/'+ f_name, index=False)\n",
    "    \n",
    "    # Read the file and correct benign detailed labels\n",
    "    df = pd.read_csv(os.path.join('data', f_name))\n",
    "    df.detailed_label = df.detailed_label.replace({'-':'benign'})    \n",
    "    \n",
    "    # Make a new dataframe which counts the the entries per detailed label and adds the botnet name\n",
    "    new_df = df.detailed_label.dropna(axis=0).value_counts().to_frame(name='counts').reset_index()\n",
    "    new_df['Botnet'] = bot_name[i]\n",
    "    # Append to list\n",
    "    dfs.append(new_df)    \n",
    "\n",
    "# Save the concatenated dataframe to a new file    \n",
    "df_botnets = pd.concat([dfs[x] for x in range(0,len(dfs))])   \n",
    "df_botnets = df_botnets.rename(columns = {'index':'Malware_type'})\n",
    "df_botnets.to_csv('data/botnets.csv', index=False)      "
   ]
  }
 ],
 "metadata": {
  "kernelspec": {
   "display_name": "Python 3.6 (tensorflow)",
   "language": "python",
   "name": "tensorflow"
  },
  "language_info": {
   "codemirror_mode": {
    "name": "ipython",
    "version": 3
   },
   "file_extension": ".py",
   "mimetype": "text/x-python",
   "name": "python",
   "nbconvert_exporter": "python",
   "pygments_lexer": "ipython3",
   "version": "3.6.15"
  }
 },
 "nbformat": 4,
 "nbformat_minor": 4
}
