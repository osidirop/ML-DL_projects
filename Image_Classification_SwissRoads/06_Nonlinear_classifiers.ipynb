{
 "cells": [
  {
   "cell_type": "markdown",
   "metadata": {},
   "source": [
    "---\n",
    "# <span style=\"color:blue\">**Nonlinear classifiers**</span>\n",
    "---"
   ]
  },
  {
   "cell_type": "markdown",
   "metadata": {},
   "source": [
    "---\n",
    "### **Load merged training and validation data & test data**\n",
    "---"
   ]
  },
  {
   "cell_type": "code",
   "execution_count": 1,
   "metadata": {},
   "outputs": [
    {
     "name": "stdout",
     "output_type": "stream",
     "text": [
      "Test data info:\n",
      "---------------\n",
      "X: (50, 224, 224, 3)\n",
      "y: (50, 6)\n",
      "labels: (6,)\n",
      "features: (50, 1280)\n",
      "filenames (50,) \n",
      "\n",
      "Training data info:\n",
      "-------------------\n",
      "X: (280, 224, 224, 3)\n",
      "y: (280, 6)\n",
      "labels: (6,)\n",
      "features: (280, 1280)\n",
      "filenames (280,) \n",
      "\n",
      "Validation data info:\n",
      "---------------------\n",
      "X: (139, 224, 224, 3)\n",
      "y: (139, 6)\n",
      "labels: (6,)\n",
      "features: (139, 1280)\n",
      "filenames (139,) \n",
      "\n",
      "merged training and validation data info:\n",
      "-----------------------------------------\n",
      "X: (419, 224, 224, 3)\n",
      "y: (419, 6)\n",
      "labels: (6,)\n",
      "features: (419, 1280)\n",
      "filenames (419,) \n",
      "\n"
     ]
    }
   ],
   "source": [
    "import functions as fn\n",
    "\n",
    "X_te, y_te, y_te_labels, test_features, te_filenames = fn.load_data('testfile_mobile_v2.npz', 'Test')\n",
    "X_tr_merged, y_tr_merged, y_tr_labels_merged, train_features_merged, train_filenames_merged = fn.merge_tr_val_sets()"
   ]
  },
  {
   "cell_type": "markdown",
   "metadata": {},
   "source": [
    "---\n",
    "## **RandomForestClassifier**\n",
    "---"
   ]
  },
  {
   "cell_type": "code",
   "execution_count": 2,
   "metadata": {},
   "outputs": [],
   "source": [
    "import numpy as np\n",
    "\n",
    "y_tr_indices = np.where(y_tr_merged == 1)[1] \n",
    "y_te_indices = np.where(y_te == 1)[1]"
   ]
  },
  {
   "cell_type": "code",
   "execution_count": 3,
   "metadata": {},
   "outputs": [
    {
     "name": "stderr",
     "output_type": "stream",
     "text": [
      "/home/osidirop/anaconda3/envs/exts-ml/lib/python3.6/site-packages/sklearn/model_selection/_search.py:842: DeprecationWarning: The default of the `iid` parameter will change from True to False in version 0.22 and will be removed in 0.24. This will change numeric results when test-set sizes are unequal.\n",
      "  DeprecationWarning)\n"
     ]
    },
    {
     "name": "stdout",
     "output_type": "stream",
     "text": [
      "Best paramemeters: {'criterion': 'entropy', 'max_depth': 7, 'max_features': 'auto', 'n_estimators': 18}\n",
      "Best validation score:0.89\n"
     ]
    }
   ],
   "source": [
    "from sklearn.ensemble import RandomForestClassifier\n",
    "from sklearn.model_selection import GridSearchCV\n",
    "import numpy as np\n",
    "\n",
    "# Create a decision tree\n",
    "dt = RandomForestClassifier(random_state=0)\n",
    "\n",
    "estimators = np.arange(1,20,1)\n",
    "\n",
    "# Define parameters to search\n",
    "parameters_dt = {\n",
    "    'n_estimators': list(estimators),\n",
    "    'criterion': ('gini','entropy'),\n",
    "    'max_depth': list(estimators),\n",
    "    'max_features': ('auto', 'sqrt', 'log2')\n",
    "}\n",
    "                   \n",
    "# Define GridSearch\n",
    "grid_search_dt = GridSearchCV(\n",
    "    estimator=dt,\n",
    "    param_grid=parameters_dt,\n",
    "    scoring = 'accuracy',\n",
    "    n_jobs = -1,\n",
    "    cv = 10\n",
    ")\n",
    "\n",
    "# Fit GridSearchCV with labels that are not one hot-encoded\n",
    "grid_search_dt.fit(train_features_merged, y_tr_indices)\n",
    "\n",
    "#grid_search_dt.fit(train_features_merged, y_tr_merged)\n",
    "\n",
    "# Print results\n",
    "print('Best paramemeters:',grid_search_dt.best_params_) \n",
    "print('Best validation score:{:.2f}'.format(grid_search_dt.best_score_))"
   ]
  },
  {
   "cell_type": "code",
   "execution_count": 4,
   "metadata": {},
   "outputs": [
    {
     "name": "stdout",
     "output_type": "stream",
     "text": [
      "Test accuracy: 0.94\n"
     ]
    }
   ],
   "source": [
    "print('Test accuracy:', grid_search_dt.score(test_features, y_te_indices))"
   ]
  },
  {
   "cell_type": "markdown",
   "metadata": {},
   "source": [
    "---\n",
    "    Random Forest performs better with labels that are not one-hot encoded. A grid search for 20 number of trees and a maximum depth equals to 20, returned the best results with 18 trees and a maximum depth of 7.\n",
    "---"
   ]
  },
  {
   "cell_type": "markdown",
   "metadata": {},
   "source": [
    "---\n",
    "#### **Save test accuracy**\n",
    "---"
   ]
  },
  {
   "cell_type": "code",
   "execution_count": 5,
   "metadata": {},
   "outputs": [],
   "source": [
    "fn.save_test_accuracy('random_forest.csv','random_forest', grid_search_dt.score(test_features, y_te_indices))"
   ]
  },
  {
   "cell_type": "markdown",
   "metadata": {},
   "source": [
    "---\n",
    "## **Linear SVM**\n",
    "---"
   ]
  },
  {
   "cell_type": "code",
   "execution_count": 6,
   "metadata": {},
   "outputs": [
    {
     "name": "stdout",
     "output_type": "stream",
     "text": [
      "Best paramemeters: {'C': 100}\n",
      "Best validation score:0.90\n"
     ]
    },
    {
     "name": "stderr",
     "output_type": "stream",
     "text": [
      "/home/osidirop/anaconda3/envs/exts-ml/lib/python3.6/site-packages/sklearn/model_selection/_search.py:842: DeprecationWarning: The default of the `iid` parameter will change from True to False in version 0.22 and will be removed in 0.24. This will change numeric results when test-set sizes are unequal.\n",
      "  DeprecationWarning)\n"
     ]
    }
   ],
   "source": [
    "from sklearn.svm import LinearSVC\n",
    "\n",
    "# Create SVM with linear kernel\n",
    "linear_svc = LinearSVC(random_state=0, dual=False, multi_class='ovr')\n",
    "\n",
    "# Define parameters to search\n",
    "parameters_linear_svc = {\n",
    "    #'penalty': ('l1', 'l2'),\n",
    "    #'dual':(True, False),\n",
    "    #'loss': ('hinge', 'squared_hinge'),\n",
    "    'C': (100, 10, 1.0, 0.1, 0.01),\n",
    "    #'multi_class': ('ovr', 'crammer_singer')\n",
    "}\n",
    "\n",
    "# Define GridSearch\n",
    "grid_search_linear_svc = GridSearchCV(\n",
    "    estimator=linear_svc,\n",
    "    param_grid=parameters_linear_svc,\n",
    "    scoring = 'accuracy',\n",
    "    n_jobs = -1,\n",
    "    cv = 10\n",
    ")\n",
    "\n",
    "# Fit GridSearchCV\n",
    "grid_search_linear_svc.fit(train_features_merged, y_tr_indices)\n",
    "\n",
    "# Print results\n",
    "print('Best paramemeters:',grid_search_linear_svc.best_params_) \n",
    "print('Best validation score:{:.2f}'.format(grid_search_linear_svc.best_score_))"
   ]
  },
  {
   "cell_type": "code",
   "execution_count": 7,
   "metadata": {},
   "outputs": [
    {
     "name": "stdout",
     "output_type": "stream",
     "text": [
      "Test accuracy: 0.92\n"
     ]
    }
   ],
   "source": [
    "print('Test accuracy:', grid_search_linear_svc.score(test_features, y_te_indices))"
   ]
  },
  {
   "cell_type": "markdown",
   "metadata": {},
   "source": [
    "---\n",
    "#### **Save test accuracy**\n",
    "---"
   ]
  },
  {
   "cell_type": "code",
   "execution_count": 8,
   "metadata": {},
   "outputs": [],
   "source": [
    "fn.save_test_accuracy('svm_linear.csv','svm_linear', grid_search_linear_svc.score(test_features, y_te_indices))"
   ]
  },
  {
   "cell_type": "markdown",
   "metadata": {},
   "source": [
    "---\n",
    "## **RBF SVM**\n",
    "---"
   ]
  },
  {
   "cell_type": "code",
   "execution_count": 9,
   "metadata": {},
   "outputs": [
    {
     "name": "stderr",
     "output_type": "stream",
     "text": [
      "/home/osidirop/anaconda3/envs/exts-ml/lib/python3.6/site-packages/sklearn/model_selection/_search.py:842: DeprecationWarning: The default of the `iid` parameter will change from True to False in version 0.22 and will be removed in 0.24. This will change numeric results when test-set sizes are unequal.\n",
      "  DeprecationWarning)\n"
     ]
    },
    {
     "name": "stdout",
     "output_type": "stream",
     "text": [
      "Best paramemeters: {'C': 1.0}\n",
      "Best validation score:0.92\n"
     ]
    }
   ],
   "source": [
    "from sklearn.svm import SVC\n",
    "\n",
    "# Create SVM with RBF kernel\n",
    "rbf_svc = SVC(kernel='rbf', gamma='auto')\n",
    "\n",
    "# Define parameters to search\n",
    "parameters_rbf_svc = {\n",
    "    #'gamma':('scale', 'auto'), \n",
    "    #'loss': ('hinge', 'squared_hinge'),\n",
    "    'C': (100, 10, 1.0, 0.1, 0.01),\n",
    "    #'multi_class': ('ovr', 'crammer_singer')\n",
    "}\n",
    "\n",
    "# Define GridSearch\n",
    "grid_search_rbf_svc = GridSearchCV(\n",
    "    estimator=rbf_svc,\n",
    "    param_grid=parameters_rbf_svc,\n",
    "    scoring = 'accuracy',\n",
    "    n_jobs = -1,\n",
    "    cv = 10\n",
    ")\n",
    "\n",
    "# Fit GridSearchCV\n",
    "grid_search_rbf_svc.fit(train_features_merged, y_tr_indices)\n",
    "\n",
    "# Print results\n",
    "print('Best paramemeters:',grid_search_rbf_svc.best_params_) \n",
    "print('Best validation score:{:.2f}'.format(grid_search_rbf_svc.best_score_))"
   ]
  },
  {
   "cell_type": "code",
   "execution_count": 10,
   "metadata": {},
   "outputs": [
    {
     "name": "stdout",
     "output_type": "stream",
     "text": [
      "Test accuracy: 0.94\n"
     ]
    }
   ],
   "source": [
    "print('Test accuracy:', grid_search_rbf_svc.score(test_features, y_te_indices))"
   ]
  },
  {
   "cell_type": "markdown",
   "metadata": {},
   "source": [
    "---\n",
    "#### **Save test accuracy**\n",
    "---"
   ]
  },
  {
   "cell_type": "code",
   "execution_count": 11,
   "metadata": {},
   "outputs": [],
   "source": [
    "fn.save_test_accuracy('svm_rbf.csv','svm_rbf', grid_search_rbf_svc.score(test_features, y_te_indices))"
   ]
  },
  {
   "cell_type": "markdown",
   "metadata": {},
   "source": [
    "---\n",
    "    Both linear and RBF SVMs gave a test accuracy >90% with the RBF performing a bit better within 2%.\n",
    "---"
   ]
  },
  {
   "cell_type": "code",
   "execution_count": null,
   "metadata": {},
   "outputs": [],
   "source": []
  }
 ],
 "metadata": {
  "kernelspec": {
   "display_name": "Python 3.6 (tensorflow)",
   "language": "python",
   "name": "tensorflow"
  },
  "language_info": {
   "codemirror_mode": {
    "name": "ipython",
    "version": 3
   },
   "file_extension": ".py",
   "mimetype": "text/x-python",
   "name": "python",
   "nbconvert_exporter": "python",
   "pygments_lexer": "ipython3",
   "version": "3.6.15"
  }
 },
 "nbformat": 4,
 "nbformat_minor": 4
}
