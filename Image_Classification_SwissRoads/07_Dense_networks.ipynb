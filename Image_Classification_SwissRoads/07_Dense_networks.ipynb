{
 "cells": [
  {
   "cell_type": "markdown",
   "metadata": {},
   "source": [
    "---\n",
    "# <span style=\"color:blue\">**Dense Network**</span>\n",
    "---"
   ]
  },
  {
   "cell_type": "markdown",
   "metadata": {},
   "source": [
    "---\n",
    "### **Load merged training and validation data & test data**\n",
    "---"
   ]
  },
  {
   "cell_type": "code",
   "execution_count": 1,
   "metadata": {},
   "outputs": [
    {
     "name": "stdout",
     "output_type": "stream",
     "text": [
      "Test data info:\n",
      "---------------\n",
      "X: (50, 224, 224, 3)\n",
      "y: (50, 6)\n",
      "labels: (6,)\n",
      "features: (50, 1280)\n",
      "filenames (50,) \n",
      "\n",
      "Training data info:\n",
      "-------------------\n",
      "X: (280, 224, 224, 3)\n",
      "y: (280, 6)\n",
      "labels: (6,)\n",
      "features: (280, 1280)\n",
      "filenames (280,) \n",
      "\n",
      "Validation data info:\n",
      "---------------------\n",
      "X: (139, 224, 224, 3)\n",
      "y: (139, 6)\n",
      "labels: (6,)\n",
      "features: (139, 1280)\n",
      "filenames (139,) \n",
      "\n",
      "merged training and validation data info:\n",
      "-----------------------------------------\n",
      "X: (419, 224, 224, 3)\n",
      "y: (419, 6)\n",
      "labels: (6,)\n",
      "features: (419, 1280)\n",
      "filenames (419,) \n",
      "\n"
     ]
    }
   ],
   "source": [
    "import functions as fn\n",
    "\n",
    "X_te, y_te, y_te_labels, test_features, te_filenames = fn.load_data('testfile_mobile_v2.npz', 'Test')\n",
    "X_tr_merged, y_tr_merged, y_tr_labels_merged, train_features_merged, train_filenames_merged = fn.merge_tr_val_sets()"
   ]
  },
  {
   "cell_type": "markdown",
   "metadata": {},
   "source": [
    "---\n",
    "## **One dense layer**\n",
    "---"
   ]
  },
  {
   "cell_type": "code",
   "execution_count": 2,
   "metadata": {},
   "outputs": [
    {
     "name": "stdout",
     "output_type": "stream",
     "text": [
      "Train on 335 samples, validate on 84 samples\n",
      "Epoch 1/50\n",
      "335/335 [==============================] - 0s 666us/step - loss: 1.3821 - acc: 0.5164 - val_loss: 1.4485 - val_acc: 0.4524\n",
      "Epoch 2/50\n",
      "335/335 [==============================] - 0s 58us/step - loss: 0.8039 - acc: 0.7642 - val_loss: 1.0267 - val_acc: 0.6905\n",
      "Epoch 3/50\n",
      "335/335 [==============================] - 0s 90us/step - loss: 0.5936 - acc: 0.8507 - val_loss: 0.8476 - val_acc: 0.7619\n",
      "Epoch 4/50\n",
      "335/335 [==============================] - 0s 90us/step - loss: 0.4796 - acc: 0.8776 - val_loss: 0.7528 - val_acc: 0.7619\n",
      "Epoch 5/50\n",
      "335/335 [==============================] - 0s 62us/step - loss: 0.4047 - acc: 0.8985 - val_loss: 0.6508 - val_acc: 0.7976\n",
      "Epoch 6/50\n",
      "335/335 [==============================] - 0s 76us/step - loss: 0.3559 - acc: 0.9104 - val_loss: 0.6094 - val_acc: 0.8095\n",
      "Epoch 7/50\n",
      "335/335 [==============================] - 0s 88us/step - loss: 0.3128 - acc: 0.9224 - val_loss: 0.5721 - val_acc: 0.8095\n",
      "Epoch 8/50\n",
      "335/335 [==============================] - 0s 64us/step - loss: 0.2850 - acc: 0.9194 - val_loss: 0.5303 - val_acc: 0.8333\n",
      "Epoch 9/50\n",
      "335/335 [==============================] - 0s 74us/step - loss: 0.2613 - acc: 0.9373 - val_loss: 0.5256 - val_acc: 0.8214\n",
      "Epoch 10/50\n",
      "335/335 [==============================] - 0s 70us/step - loss: 0.2440 - acc: 0.9403 - val_loss: 0.4999 - val_acc: 0.8333\n",
      "Epoch 11/50\n",
      "335/335 [==============================] - 0s 95us/step - loss: 0.2259 - acc: 0.9463 - val_loss: 0.4839 - val_acc: 0.8333\n",
      "Epoch 12/50\n",
      "335/335 [==============================] - 0s 65us/step - loss: 0.2118 - acc: 0.9612 - val_loss: 0.4750 - val_acc: 0.8333\n",
      "Epoch 13/50\n",
      "335/335 [==============================] - 0s 69us/step - loss: 0.1998 - acc: 0.9582 - val_loss: 0.4609 - val_acc: 0.8333\n",
      "Epoch 14/50\n",
      "335/335 [==============================] - 0s 83us/step - loss: 0.1884 - acc: 0.9552 - val_loss: 0.4506 - val_acc: 0.8452\n",
      "Epoch 15/50\n",
      "335/335 [==============================] - 0s 70us/step - loss: 0.1780 - acc: 0.9642 - val_loss: 0.4464 - val_acc: 0.8452\n",
      "Epoch 16/50\n",
      "335/335 [==============================] - 0s 66us/step - loss: 0.1706 - acc: 0.9731 - val_loss: 0.4372 - val_acc: 0.8452\n",
      "Epoch 17/50\n",
      "335/335 [==============================] - 0s 59us/step - loss: 0.1616 - acc: 0.9731 - val_loss: 0.4307 - val_acc: 0.8452\n",
      "Epoch 18/50\n",
      "335/335 [==============================] - 0s 68us/step - loss: 0.1562 - acc: 0.9731 - val_loss: 0.4258 - val_acc: 0.8333\n",
      "Epoch 19/50\n",
      "335/335 [==============================] - 0s 72us/step - loss: 0.1484 - acc: 0.9791 - val_loss: 0.4255 - val_acc: 0.8452\n",
      "Epoch 20/50\n",
      "335/335 [==============================] - 0s 74us/step - loss: 0.1421 - acc: 0.9791 - val_loss: 0.4183 - val_acc: 0.8452\n",
      "Epoch 21/50\n",
      "335/335 [==============================] - 0s 86us/step - loss: 0.1366 - acc: 0.9761 - val_loss: 0.4078 - val_acc: 0.8333\n",
      "Epoch 22/50\n",
      "335/335 [==============================] - 0s 78us/step - loss: 0.1321 - acc: 0.9851 - val_loss: 0.4049 - val_acc: 0.8452\n",
      "Epoch 23/50\n",
      "335/335 [==============================] - 0s 73us/step - loss: 0.1268 - acc: 0.9791 - val_loss: 0.4083 - val_acc: 0.8452\n",
      "Epoch 24/50\n",
      "335/335 [==============================] - 0s 56us/step - loss: 0.1228 - acc: 0.9851 - val_loss: 0.4052 - val_acc: 0.8452\n",
      "Epoch 25/50\n",
      "335/335 [==============================] - 0s 73us/step - loss: 0.1188 - acc: 0.9821 - val_loss: 0.3970 - val_acc: 0.8452\n",
      "Epoch 26/50\n",
      "335/335 [==============================] - 0s 59us/step - loss: 0.1148 - acc: 0.9851 - val_loss: 0.3927 - val_acc: 0.8333\n",
      "Epoch 27/50\n",
      "335/335 [==============================] - 0s 84us/step - loss: 0.1109 - acc: 0.9851 - val_loss: 0.4040 - val_acc: 0.8571\n",
      "Epoch 28/50\n",
      "335/335 [==============================] - 0s 85us/step - loss: 0.1073 - acc: 0.9851 - val_loss: 0.3920 - val_acc: 0.8571\n",
      "Epoch 29/50\n",
      "335/335 [==============================] - 0s 79us/step - loss: 0.1046 - acc: 0.9851 - val_loss: 0.3813 - val_acc: 0.8452\n",
      "Epoch 30/50\n",
      "335/335 [==============================] - 0s 77us/step - loss: 0.1016 - acc: 0.9881 - val_loss: 0.3914 - val_acc: 0.8452\n",
      "Epoch 31/50\n",
      "335/335 [==============================] - 0s 60us/step - loss: 0.0987 - acc: 0.9881 - val_loss: 0.3899 - val_acc: 0.8571\n",
      "Epoch 32/50\n",
      "335/335 [==============================] - 0s 68us/step - loss: 0.0960 - acc: 0.9940 - val_loss: 0.3854 - val_acc: 0.8571\n",
      "Epoch 33/50\n",
      "335/335 [==============================] - 0s 69us/step - loss: 0.0940 - acc: 0.9940 - val_loss: 0.3890 - val_acc: 0.8333\n",
      "Epoch 34/50\n",
      "335/335 [==============================] - 0s 110us/step - loss: 0.0909 - acc: 0.9910 - val_loss: 0.3840 - val_acc: 0.8333\n",
      "Epoch 35/50\n",
      "335/335 [==============================] - 0s 76us/step - loss: 0.0880 - acc: 0.9910 - val_loss: 0.3888 - val_acc: 0.8333\n",
      "Epoch 36/50\n",
      "335/335 [==============================] - 0s 64us/step - loss: 0.0864 - acc: 0.9940 - val_loss: 0.3860 - val_acc: 0.8333\n",
      "Epoch 37/50\n",
      "335/335 [==============================] - 0s 85us/step - loss: 0.0836 - acc: 0.9940 - val_loss: 0.3794 - val_acc: 0.8452\n",
      "Epoch 38/50\n",
      "335/335 [==============================] - 0s 59us/step - loss: 0.0818 - acc: 0.9940 - val_loss: 0.3814 - val_acc: 0.8333\n",
      "Epoch 39/50\n",
      "335/335 [==============================] - 0s 81us/step - loss: 0.0801 - acc: 0.9940 - val_loss: 0.3793 - val_acc: 0.8452\n",
      "Epoch 40/50\n",
      "335/335 [==============================] - 0s 102us/step - loss: 0.0784 - acc: 0.9940 - val_loss: 0.3795 - val_acc: 0.8333\n",
      "Epoch 41/50\n",
      "335/335 [==============================] - 0s 74us/step - loss: 0.0768 - acc: 0.9940 - val_loss: 0.3780 - val_acc: 0.8452\n",
      "Epoch 42/50\n",
      "335/335 [==============================] - 0s 77us/step - loss: 0.0748 - acc: 0.9940 - val_loss: 0.3763 - val_acc: 0.8452\n",
      "Epoch 43/50\n",
      "335/335 [==============================] - 0s 82us/step - loss: 0.0734 - acc: 0.9940 - val_loss: 0.3745 - val_acc: 0.8452\n",
      "Epoch 44/50\n",
      "335/335 [==============================] - 0s 53us/step - loss: 0.0721 - acc: 0.9940 - val_loss: 0.3753 - val_acc: 0.8452\n",
      "Epoch 45/50\n",
      "335/335 [==============================] - 0s 72us/step - loss: 0.0704 - acc: 0.9970 - val_loss: 0.3751 - val_acc: 0.8452\n",
      "Epoch 46/50\n",
      "335/335 [==============================] - 0s 80us/step - loss: 0.0689 - acc: 0.9970 - val_loss: 0.3742 - val_acc: 0.8452\n",
      "Epoch 47/50\n",
      "335/335 [==============================] - 0s 82us/step - loss: 0.0675 - acc: 0.9970 - val_loss: 0.3777 - val_acc: 0.8333\n",
      "Epoch 48/50\n",
      "335/335 [==============================] - 0s 63us/step - loss: 0.0663 - acc: 0.9970 - val_loss: 0.3813 - val_acc: 0.8452\n",
      "Epoch 49/50\n",
      "335/335 [==============================] - 0s 80us/step - loss: 0.0648 - acc: 0.9970 - val_loss: 0.3769 - val_acc: 0.8333\n",
      "Epoch 50/50\n",
      "335/335 [==============================] - 0s 69us/step - loss: 0.0637 - acc: 0.9970 - val_loss: 0.3757 - val_acc: 0.8333\n",
      "_________________________________________________________________\n",
      "Layer (type)                 Output Shape              Param #   \n",
      "=================================================================\n",
      "dense (Dense)                multiple                  7686      \n",
      "=================================================================\n",
      "Total params: 7,686\n",
      "Trainable params: 7,686\n",
      "Non-trainable params: 0\n",
      "_________________________________________________________________\n"
     ]
    }
   ],
   "source": [
    "import tensorflow as tf\n",
    "from tensorflow.keras import Sequential\n",
    "from tensorflow.keras.layers import Dense\n",
    "from tensorflow.keras import optimizers\n",
    "\n",
    "model = Sequential()\n",
    "model.add(Dense(6, activation='softmax'))\n",
    "model.compile(optimizer='sgd', loss='categorical_crossentropy', metrics=['acc'])\n",
    "# Fit model\n",
    "history = model.fit(\n",
    "    x=train_features_merged, y=y_tr_merged,\n",
    "    validation_split=0.2, batch_size=32, epochs=50,\n",
    "    shuffle=True # Shuffle training samples\n",
    ")\n",
    "model.summary()"
   ]
  },
  {
   "cell_type": "code",
   "execution_count": 3,
   "metadata": {},
   "outputs": [
    {
     "data": {
      "image/png": "[encoded data removed]",
      "text/plain": [
       "<Figure size 864x288 with 2 Axes>"
      ]
     },
     "metadata": {
      "needs_background": "light"
     },
     "output_type": "display_data"
    }
   ],
   "source": [
    "%matplotlib inline\n",
    "import matplotlib.pyplot as plt\n",
    "import numpy as np\n",
    "\n",
    "# Create two plots: one for the loss value, one for the accuracy\n",
    "fig, (ax1, ax2) = plt.subplots(nrows=1, ncols=2, figsize=(12, 4))\n",
    "\n",
    "# Plot accuracy values\n",
    "ax1.plot(history.history['loss'], label='train loss')\n",
    "ax1.plot(history.history['val_loss'], label='val loss')\n",
    "ax1.set_title('Validation loss {:.3f} (mean last 3)'.format(\n",
    "    np.mean(history.history['val_loss'][-3:]) # last three values\n",
    "))\n",
    "ax1.set_xlabel('epoch')\n",
    "ax1.set_ylabel('loss value')\n",
    "ax1.legend()\n",
    "\n",
    "# Plot accuracy values\n",
    "ax2.plot(history.history['acc'], label='train acc')\n",
    "ax2.plot(history.history['val_acc'], label='val acc')\n",
    "ax2.set_title('Validation accuracy {:.3f} (mean last 3)'.format(\n",
    "    np.mean(history.history['val_acc'][-3:]) # last three values\n",
    "))\n",
    "ax2.set_xlabel('epoch')\n",
    "ax2.set_ylabel('accuracy')\n",
    "ax2.legend()\n",
    "plt.show()\n"
   ]
  },
  {
   "cell_type": "code",
   "execution_count": 4,
   "metadata": {},
   "outputs": [
    {
     "name": "stdout",
     "output_type": "stream",
     "text": [
      "50/50 [==============================] - 0s 74us/step\n",
      "Test loss: 0.21\n",
      "Test accuracy: 96.00%\n"
     ]
    }
   ],
   "source": [
    "(test_loss, test_accuracy) = model.evaluate(test_features, y_te, batch_size=32)\n",
    "\n",
    "print('Test loss: {:.2f}'.format(test_loss)) # around 0.19\n",
    "print('Test accuracy: {:.2f}%'.format(100*test_accuracy)) # around 95%\n"
   ]
  },
  {
   "cell_type": "markdown",
   "metadata": {},
   "source": [
    "---\n",
    "#### **Save test accuracy**\n",
    "---"
   ]
  },
  {
   "cell_type": "code",
   "execution_count": 5,
   "metadata": {},
   "outputs": [],
   "source": [
    "fn.save_test_accuracy('1_layer_nn.csv','1_layer_nn', test_accuracy)"
   ]
  },
  {
   "cell_type": "markdown",
   "metadata": {},
   "source": [
    "---\n",
    "## **Two Dense layers**\n",
    "---"
   ]
  },
  {
   "cell_type": "code",
   "execution_count": 6,
   "metadata": {},
   "outputs": [
    {
     "name": "stdout",
     "output_type": "stream",
     "text": [
      "Train on 335 samples, validate on 84 samples\n",
      "Epoch 1/50\n",
      "335/335 [==============================] - 0s 676us/step - loss: 1.5677 - acc: 0.4358 - val_loss: 1.4608 - val_acc: 0.3929\n",
      "Epoch 2/50\n",
      "335/335 [==============================] - 0s 85us/step - loss: 0.8845 - acc: 0.7493 - val_loss: 1.1650 - val_acc: 0.5952\n",
      "Epoch 3/50\n",
      "335/335 [==============================] - 0s 81us/step - loss: 0.6588 - acc: 0.8388 - val_loss: 0.9687 - val_acc: 0.7143\n",
      "Epoch 4/50\n",
      "335/335 [==============================] - 0s 95us/step - loss: 0.5205 - acc: 0.8866 - val_loss: 0.8079 - val_acc: 0.7738\n",
      "Epoch 5/50\n",
      "335/335 [==============================] - 0s 86us/step - loss: 0.4295 - acc: 0.9134 - val_loss: 0.7084 - val_acc: 0.7976\n",
      "Epoch 6/50\n",
      "335/335 [==============================] - 0s 142us/step - loss: 0.3636 - acc: 0.9343 - val_loss: 0.6455 - val_acc: 0.8095\n",
      "Epoch 7/50\n",
      "335/335 [==============================] - 0s 115us/step - loss: 0.3158 - acc: 0.9522 - val_loss: 0.5890 - val_acc: 0.7976\n",
      "Epoch 8/50\n",
      "335/335 [==============================] - 0s 84us/step - loss: 0.2813 - acc: 0.9582 - val_loss: 0.5371 - val_acc: 0.8095\n",
      "Epoch 9/50\n",
      "335/335 [==============================] - 0s 104us/step - loss: 0.2515 - acc: 0.9612 - val_loss: 0.5031 - val_acc: 0.8571\n",
      "Epoch 10/50\n",
      "335/335 [==============================] - 0s 79us/step - loss: 0.2260 - acc: 0.9612 - val_loss: 0.4785 - val_acc: 0.8571\n",
      "Epoch 11/50\n",
      "335/335 [==============================] - 0s 132us/step - loss: 0.2063 - acc: 0.9701 - val_loss: 0.4571 - val_acc: 0.8571\n",
      "Epoch 12/50\n",
      "335/335 [==============================] - 0s 82us/step - loss: 0.1934 - acc: 0.9731 - val_loss: 0.4371 - val_acc: 0.8571\n",
      "Epoch 13/50\n",
      "335/335 [==============================] - 0s 94us/step - loss: 0.1766 - acc: 0.9761 - val_loss: 0.4158 - val_acc: 0.8810\n",
      "Epoch 14/50\n",
      "335/335 [==============================] - 0s 83us/step - loss: 0.1646 - acc: 0.9672 - val_loss: 0.4084 - val_acc: 0.8571\n",
      "Epoch 15/50\n",
      "335/335 [==============================] - 0s 108us/step - loss: 0.1528 - acc: 0.9761 - val_loss: 0.3939 - val_acc: 0.8690\n",
      "Epoch 16/50\n",
      "335/335 [==============================] - 0s 89us/step - loss: 0.1444 - acc: 0.9791 - val_loss: 0.3866 - val_acc: 0.8690\n",
      "Epoch 17/50\n",
      "335/335 [==============================] - 0s 110us/step - loss: 0.1360 - acc: 0.9791 - val_loss: 0.3767 - val_acc: 0.8810\n",
      "Epoch 18/50\n",
      "335/335 [==============================] - 0s 83us/step - loss: 0.1290 - acc: 0.9821 - val_loss: 0.3752 - val_acc: 0.8690\n",
      "Epoch 19/50\n",
      "335/335 [==============================] - 0s 112us/step - loss: 0.1219 - acc: 0.9821 - val_loss: 0.3770 - val_acc: 0.8571\n",
      "Epoch 20/50\n",
      "335/335 [==============================] - 0s 96us/step - loss: 0.1165 - acc: 0.9821 - val_loss: 0.3680 - val_acc: 0.8571\n",
      "Epoch 21/50\n",
      "335/335 [==============================] - 0s 93us/step - loss: 0.1103 - acc: 0.9791 - val_loss: 0.3594 - val_acc: 0.8929\n",
      "Epoch 22/50\n",
      "335/335 [==============================] - 0s 84us/step - loss: 0.1054 - acc: 0.9881 - val_loss: 0.3563 - val_acc: 0.8690\n",
      "Epoch 23/50\n",
      "335/335 [==============================] - 0s 99us/step - loss: 0.1004 - acc: 0.9851 - val_loss: 0.3499 - val_acc: 0.8929\n",
      "Epoch 24/50\n",
      "335/335 [==============================] - 0s 86us/step - loss: 0.0958 - acc: 0.9881 - val_loss: 0.3455 - val_acc: 0.8810\n",
      "Epoch 25/50\n",
      "335/335 [==============================] - 0s 109us/step - loss: 0.0914 - acc: 0.9881 - val_loss: 0.3415 - val_acc: 0.8810\n",
      "Epoch 26/50\n",
      "335/335 [==============================] - 0s 79us/step - loss: 0.0881 - acc: 0.9910 - val_loss: 0.3387 - val_acc: 0.8810\n",
      "Epoch 27/50\n",
      "335/335 [==============================] - 0s 135us/step - loss: 0.0841 - acc: 0.9940 - val_loss: 0.3403 - val_acc: 0.8929\n",
      "Epoch 28/50\n",
      "335/335 [==============================] - 0s 108us/step - loss: 0.0812 - acc: 0.9940 - val_loss: 0.3343 - val_acc: 0.8810\n",
      "Epoch 29/50\n",
      "335/335 [==============================] - 0s 108us/step - loss: 0.0774 - acc: 0.9970 - val_loss: 0.3372 - val_acc: 0.8810\n",
      "Epoch 30/50\n",
      "335/335 [==============================] - 0s 95us/step - loss: 0.0752 - acc: 0.9970 - val_loss: 0.3354 - val_acc: 0.8571\n",
      "Epoch 31/50\n",
      "335/335 [==============================] - 0s 79us/step - loss: 0.0723 - acc: 0.9940 - val_loss: 0.3332 - val_acc: 0.8810\n",
      "Epoch 32/50\n",
      "335/335 [==============================] - 0s 112us/step - loss: 0.0693 - acc: 0.9970 - val_loss: 0.3325 - val_acc: 0.8929\n",
      "Epoch 33/50\n",
      "335/335 [==============================] - 0s 81us/step - loss: 0.0672 - acc: 0.9970 - val_loss: 0.3323 - val_acc: 0.8810\n",
      "Epoch 34/50\n",
      "335/335 [==============================] - 0s 98us/step - loss: 0.0647 - acc: 0.9940 - val_loss: 0.3262 - val_acc: 0.8929\n",
      "Epoch 35/50\n",
      "335/335 [==============================] - 0s 103us/step - loss: 0.0624 - acc: 0.9970 - val_loss: 0.3304 - val_acc: 0.8929\n",
      "Epoch 36/50\n",
      "335/335 [==============================] - 0s 92us/step - loss: 0.0602 - acc: 0.9970 - val_loss: 0.3265 - val_acc: 0.8929\n",
      "Epoch 37/50\n",
      "335/335 [==============================] - 0s 103us/step - loss: 0.0585 - acc: 0.9970 - val_loss: 0.3271 - val_acc: 0.8929\n",
      "Epoch 38/50\n",
      "335/335 [==============================] - 0s 132us/step - loss: 0.0565 - acc: 1.0000 - val_loss: 0.3260 - val_acc: 0.8929\n",
      "Epoch 39/50\n",
      "335/335 [==============================] - 0s 108us/step - loss: 0.0548 - acc: 1.0000 - val_loss: 0.3252 - val_acc: 0.8929\n",
      "Epoch 40/50\n",
      "335/335 [==============================] - 0s 105us/step - loss: 0.0530 - acc: 1.0000 - val_loss: 0.3209 - val_acc: 0.8929\n",
      "Epoch 41/50\n",
      "335/335 [==============================] - 0s 84us/step - loss: 0.0517 - acc: 1.0000 - val_loss: 0.3232 - val_acc: 0.8929\n",
      "Epoch 42/50\n",
      "335/335 [==============================] - 0s 102us/step - loss: 0.0501 - acc: 1.0000 - val_loss: 0.3221 - val_acc: 0.8929\n",
      "Epoch 43/50\n",
      "335/335 [==============================] - 0s 80us/step - loss: 0.0486 - acc: 1.0000 - val_loss: 0.3173 - val_acc: 0.8929\n",
      "Epoch 44/50\n",
      "335/335 [==============================] - 0s 97us/step - loss: 0.0474 - acc: 1.0000 - val_loss: 0.3194 - val_acc: 0.8929\n",
      "Epoch 45/50\n",
      "335/335 [==============================] - 0s 107us/step - loss: 0.0460 - acc: 1.0000 - val_loss: 0.3196 - val_acc: 0.8929\n",
      "Epoch 46/50\n",
      "335/335 [==============================] - 0s 80us/step - loss: 0.0448 - acc: 1.0000 - val_loss: 0.3167 - val_acc: 0.8929\n",
      "Epoch 47/50\n",
      "335/335 [==============================] - 0s 102us/step - loss: 0.0435 - acc: 1.0000 - val_loss: 0.3186 - val_acc: 0.8929\n",
      "Epoch 48/50\n",
      "335/335 [==============================] - 0s 87us/step - loss: 0.0426 - acc: 1.0000 - val_loss: 0.3193 - val_acc: 0.8929\n",
      "Epoch 49/50\n",
      "335/335 [==============================] - 0s 116us/step - loss: 0.0414 - acc: 1.0000 - val_loss: 0.3203 - val_acc: 0.9048\n",
      "Epoch 50/50\n",
      "335/335 [==============================] - 0s 94us/step - loss: 0.0404 - acc: 1.0000 - val_loss: 0.3211 - val_acc: 0.8929\n",
      "_________________________________________________________________\n",
      "Layer (type)                 Output Shape              Param #   \n",
      "=================================================================\n",
      "dense_1 (Dense)              multiple                  81984     \n",
      "_________________________________________________________________\n",
      "dense_2 (Dense)              multiple                  390       \n",
      "=================================================================\n",
      "Total params: 82,374\n",
      "Trainable params: 82,374\n",
      "Non-trainable params: 0\n",
      "_________________________________________________________________\n"
     ]
    }
   ],
   "source": [
    "model = Sequential()\n",
    "model.add(Dense(64, activation='relu'))\n",
    "model.add(Dense(6, activation='softmax'))\n",
    "model.compile(optimizer='sgd', loss='categorical_crossentropy', metrics=['acc'])\n",
    "# Fit model\n",
    "history = model.fit(\n",
    "    x=train_features_merged, y=y_tr_merged,\n",
    "    validation_split=0.2, batch_size=32, epochs=50,\n",
    "    shuffle=True # Shuffle training samples\n",
    ")\n",
    "model.summary()"
   ]
  },
  {
   "cell_type": "code",
   "execution_count": 7,
   "metadata": {},
   "outputs": [
    {
     "data": {
      "image/png": "[encoded data removed]",
      "text/plain": [
       "<Figure size 864x288 with 2 Axes>"
      ]
     },
     "metadata": {
      "needs_background": "light"
     },
     "output_type": "display_data"
    }
   ],
   "source": [
    "%matplotlib inline\n",
    "import matplotlib.pyplot as plt\n",
    "import numpy as np\n",
    "\n",
    "# Create two plots: one for the loss value, one for the accuracy\n",
    "fig, (ax1, ax2) = plt.subplots(nrows=1, ncols=2, figsize=(12, 4))\n",
    "\n",
    "# Plot accuracy values\n",
    "ax1.plot(history.history['loss'], label='train loss')\n",
    "ax1.plot(history.history['val_loss'], label='val loss')\n",
    "ax1.set_title('Validation loss {:.3f} (mean last 3)'.format(\n",
    "    np.mean(history.history['val_loss'][-3:]) # last three values\n",
    "))\n",
    "ax1.set_xlabel('epoch')\n",
    "ax1.set_ylabel('loss value')\n",
    "ax1.legend()\n",
    "\n",
    "# Plot accuracy values\n",
    "ax2.plot(history.history['acc'], label='train acc')\n",
    "ax2.plot(history.history['val_acc'], label='val acc')\n",
    "ax2.set_title('Validation accuracy {:.3f} (mean last 3)'.format(\n",
    "    np.mean(history.history['val_acc'][-3:]) # last three values\n",
    "))\n",
    "ax2.set_xlabel('epoch')\n",
    "ax2.set_ylabel('accuracy')\n",
    "ax2.legend()\n",
    "plt.show()\n"
   ]
  },
  {
   "cell_type": "code",
   "execution_count": 8,
   "metadata": {},
   "outputs": [
    {
     "name": "stdout",
     "output_type": "stream",
     "text": [
      "50/50 [==============================] - 0s 115us/step\n",
      "Test loss: 0.27\n",
      "Test accuracy: 92.00%\n"
     ]
    }
   ],
   "source": [
    "(test_loss, test_accuracy) = model.evaluate(test_features, y_te, batch_size=32)\n",
    "\n",
    "print('Test loss: {:.2f}'.format(test_loss)) \n",
    "print('Test accuracy: {:.2f}%'.format(100*test_accuracy)) \n"
   ]
  },
  {
   "cell_type": "markdown",
   "metadata": {},
   "source": [
    "---\n",
    "#### **Save test accuracy**\n",
    "---"
   ]
  },
  {
   "cell_type": "code",
   "execution_count": 9,
   "metadata": {},
   "outputs": [],
   "source": [
    "fn.save_test_accuracy('2_layer_nn.csv','2_layer_nn', test_accuracy)"
   ]
  }
 ],
 "metadata": {
  "kernelspec": {
   "display_name": "Python 3.6 (tensorflow)",
   "language": "python",
   "name": "tensorflow"
  },
  "language_info": {
   "codemirror_mode": {
    "name": "ipython",
    "version": 3
   },
   "file_extension": ".py",
   "mimetype": "text/x-python",
   "name": "python",
   "nbconvert_exporter": "python",
   "pygments_lexer": "ipython3",
   "version": "3.6.15"
  }
 },
 "nbformat": 4,
 "nbformat_minor": 4
}
